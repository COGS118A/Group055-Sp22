{
 "cells": [
  {
   "cell_type": "code",
   "execution_count": 55,
   "id": "95546398",
   "metadata": {
    "scrolled": true
   },
   "outputs": [
    {
     "data": {
      "text/html": [
       "<div>\n",
       "<style scoped>\n",
       "    .dataframe tbody tr th:only-of-type {\n",
       "        vertical-align: middle;\n",
       "    }\n",
       "\n",
       "    .dataframe tbody tr th {\n",
       "        vertical-align: top;\n",
       "    }\n",
       "\n",
       "    .dataframe thead th {\n",
       "        text-align: right;\n",
       "    }\n",
       "</style>\n",
       "<table border=\"1\" class=\"dataframe\">\n",
       "  <thead>\n",
       "    <tr style=\"text-align: right;\">\n",
       "      <th></th>\n",
       "      <th>Unnamed: 0</th>\n",
       "      <th>Entity</th>\n",
       "      <th>Code</th>\n",
       "      <th>Continent_Code</th>\n",
       "      <th>Year</th>\n",
       "      <th>Number of executions (Amnesty International)</th>\n",
       "      <th>Meningitis</th>\n",
       "      <th>Neoplasms</th>\n",
       "      <th>Fire, heat, and hot substances</th>\n",
       "      <th>Malaria</th>\n",
       "      <th>...</th>\n",
       "      <th>Protein-energy malnutrition</th>\n",
       "      <th>Terrorism (deaths)</th>\n",
       "      <th>Cardiovascular diseases</th>\n",
       "      <th>Chronic kidney disease</th>\n",
       "      <th>Chronic respiratory diseases</th>\n",
       "      <th>Cirrhosis and other chronic liver diseases</th>\n",
       "      <th>Digestive diseases</th>\n",
       "      <th>Acute hepatitis</th>\n",
       "      <th>Alzheimer's disease and other dementias</th>\n",
       "      <th>Parkinson's disease</th>\n",
       "    </tr>\n",
       "  </thead>\n",
       "  <tbody>\n",
       "    <tr>\n",
       "      <th>0</th>\n",
       "      <td>0</td>\n",
       "      <td>Afghanistan</td>\n",
       "      <td>AFG</td>\n",
       "      <td>AS</td>\n",
       "      <td>2007</td>\n",
       "      <td>15</td>\n",
       "      <td>2933.0</td>\n",
       "      <td>15925.0</td>\n",
       "      <td>481.0</td>\n",
       "      <td>393.0</td>\n",
       "      <td>...</td>\n",
       "      <td>2439.0</td>\n",
       "      <td>1199.0</td>\n",
       "      <td>53962.0</td>\n",
       "      <td>4490.0</td>\n",
       "      <td>7222.0</td>\n",
       "      <td>3346.0</td>\n",
       "      <td>6458.0</td>\n",
       "      <td>3437.0</td>\n",
       "      <td>1402.0</td>\n",
       "      <td>450.0</td>\n",
       "    </tr>\n",
       "    <tr>\n",
       "      <th>1</th>\n",
       "      <td>1</td>\n",
       "      <td>Afghanistan</td>\n",
       "      <td>AFG</td>\n",
       "      <td>AS</td>\n",
       "      <td>2008</td>\n",
       "      <td>17</td>\n",
       "      <td>2731.0</td>\n",
       "      <td>16148.0</td>\n",
       "      <td>462.0</td>\n",
       "      <td>255.0</td>\n",
       "      <td>...</td>\n",
       "      <td>2231.0</td>\n",
       "      <td>1092.0</td>\n",
       "      <td>54051.0</td>\n",
       "      <td>4534.0</td>\n",
       "      <td>7143.0</td>\n",
       "      <td>3316.0</td>\n",
       "      <td>6408.0</td>\n",
       "      <td>3005.0</td>\n",
       "      <td>1424.0</td>\n",
       "      <td>455.0</td>\n",
       "    </tr>\n",
       "    <tr>\n",
       "      <th>2</th>\n",
       "      <td>2</td>\n",
       "      <td>Afghanistan</td>\n",
       "      <td>AFG</td>\n",
       "      <td>AS</td>\n",
       "      <td>2009</td>\n",
       "      <td>0</td>\n",
       "      <td>2460.0</td>\n",
       "      <td>16383.0</td>\n",
       "      <td>448.0</td>\n",
       "      <td>239.0</td>\n",
       "      <td>...</td>\n",
       "      <td>1998.0</td>\n",
       "      <td>1065.0</td>\n",
       "      <td>53964.0</td>\n",
       "      <td>4597.0</td>\n",
       "      <td>7045.0</td>\n",
       "      <td>3291.0</td>\n",
       "      <td>6358.0</td>\n",
       "      <td>2663.0</td>\n",
       "      <td>1449.0</td>\n",
       "      <td>460.0</td>\n",
       "    </tr>\n",
       "    <tr>\n",
       "      <th>3</th>\n",
       "      <td>3</td>\n",
       "      <td>Afghanistan</td>\n",
       "      <td>AFG</td>\n",
       "      <td>AS</td>\n",
       "      <td>2011</td>\n",
       "      <td>2</td>\n",
       "      <td>2327.0</td>\n",
       "      <td>17094.0</td>\n",
       "      <td>448.0</td>\n",
       "      <td>390.0</td>\n",
       "      <td>...</td>\n",
       "      <td>1805.0</td>\n",
       "      <td>1525.0</td>\n",
       "      <td>54347.0</td>\n",
       "      <td>4785.0</td>\n",
       "      <td>6916.0</td>\n",
       "      <td>3318.0</td>\n",
       "      <td>6370.0</td>\n",
       "      <td>2365.0</td>\n",
       "      <td>1508.0</td>\n",
       "      <td>473.0</td>\n",
       "    </tr>\n",
       "    <tr>\n",
       "      <th>4</th>\n",
       "      <td>4</td>\n",
       "      <td>Afghanistan</td>\n",
       "      <td>AFG</td>\n",
       "      <td>AS</td>\n",
       "      <td>2012</td>\n",
       "      <td>14</td>\n",
       "      <td>2254.0</td>\n",
       "      <td>17522.0</td>\n",
       "      <td>445.0</td>\n",
       "      <td>94.0</td>\n",
       "      <td>...</td>\n",
       "      <td>1667.0</td>\n",
       "      <td>3521.0</td>\n",
       "      <td>54868.0</td>\n",
       "      <td>4846.0</td>\n",
       "      <td>6878.0</td>\n",
       "      <td>3353.0</td>\n",
       "      <td>6398.0</td>\n",
       "      <td>2264.0</td>\n",
       "      <td>1544.0</td>\n",
       "      <td>482.0</td>\n",
       "    </tr>\n",
       "  </tbody>\n",
       "</table>\n",
       "<p>5 rows × 38 columns</p>\n",
       "</div>"
      ],
      "text/plain": [
       "   Unnamed: 0       Entity Code Continent_Code  Year  \\\n",
       "0           0  Afghanistan  AFG             AS  2007   \n",
       "1           1  Afghanistan  AFG             AS  2008   \n",
       "2           2  Afghanistan  AFG             AS  2009   \n",
       "3           3  Afghanistan  AFG             AS  2011   \n",
       "4           4  Afghanistan  AFG             AS  2012   \n",
       "\n",
       "  Number of executions (Amnesty International)  Meningitis  Neoplasms  \\\n",
       "0                                           15      2933.0    15925.0   \n",
       "1                                           17      2731.0    16148.0   \n",
       "2                                            0      2460.0    16383.0   \n",
       "3                                            2      2327.0    17094.0   \n",
       "4                                           14      2254.0    17522.0   \n",
       "\n",
       "   Fire, heat, and hot substances  Malaria  ...  Protein-energy malnutrition  \\\n",
       "0                           481.0    393.0  ...                       2439.0   \n",
       "1                           462.0    255.0  ...                       2231.0   \n",
       "2                           448.0    239.0  ...                       1998.0   \n",
       "3                           448.0    390.0  ...                       1805.0   \n",
       "4                           445.0     94.0  ...                       1667.0   \n",
       "\n",
       "   Terrorism (deaths)  Cardiovascular diseases  Chronic kidney disease  \\\n",
       "0              1199.0                  53962.0                  4490.0   \n",
       "1              1092.0                  54051.0                  4534.0   \n",
       "2              1065.0                  53964.0                  4597.0   \n",
       "3              1525.0                  54347.0                  4785.0   \n",
       "4              3521.0                  54868.0                  4846.0   \n",
       "\n",
       "   Chronic respiratory diseases  Cirrhosis and other chronic liver diseases  \\\n",
       "0                        7222.0                                      3346.0   \n",
       "1                        7143.0                                      3316.0   \n",
       "2                        7045.0                                      3291.0   \n",
       "3                        6916.0                                      3318.0   \n",
       "4                        6878.0                                      3353.0   \n",
       "\n",
       "   Digestive diseases  Acute hepatitis  \\\n",
       "0              6458.0           3437.0   \n",
       "1              6408.0           3005.0   \n",
       "2              6358.0           2663.0   \n",
       "3              6370.0           2365.0   \n",
       "4              6398.0           2264.0   \n",
       "\n",
       "   Alzheimer's disease and other dementias  Parkinson's disease  \n",
       "0                                   1402.0                450.0  \n",
       "1                                   1424.0                455.0  \n",
       "2                                   1449.0                460.0  \n",
       "3                                   1508.0                473.0  \n",
       "4                                   1544.0                482.0  \n",
       "\n",
       "[5 rows x 38 columns]"
      ]
     },
     "execution_count": 55,
     "metadata": {},
     "output_type": "execute_result"
    }
   ],
   "source": [
    "import pandas as pd\n",
    "import numpy as np\n",
    "import sklearn as sk\n",
    "from sklearn.model_selection import train_test_split\n",
    "\n",
    "# Read in data\n",
    "df = pd.read_csv('cleaned_data_COGS118A.csv')\n",
    "df.head()"
   ]
  },
  {
   "cell_type": "code",
   "execution_count": 56,
   "id": "2e53721b",
   "metadata": {},
   "outputs": [],
   "source": [
    "# One-hot-encoding\n",
    "# 0 represents Asia | 1 represents Europe | 2 represents North America\n",
    "# 3 represents South America | 4 represents Africa | 5 represents Oceania\n",
    "\n",
    "df['Continent_Code'] = df['Continent_Code'].replace(to_replace='AS', value=0)\n",
    "df['Continent_Code'] = df['Continent_Code'].replace(to_replace='EU', value=1)\n",
    "df.fillna(2,inplace=True)\n",
    "df['Continent_Code'] = df['Continent_Code'].replace(to_replace='SA', value=3)\n",
    "df['Continent_Code'] = df['Continent_Code'].replace(to_replace='AF', value=4)\n",
    "df['Continent_Code'] = df['Continent_Code'].replace(to_replace='OC', value=5)\n",
    "df = df[df.Continent_Code != '0']\n",
    "\n",
    "# Converting strings to floats\n",
    "df['Number of executions (Amnesty International)'] = df['Number of executions (Amnesty International)'].replace(to_replace='>1000', value=1000)\n",
    "df['Number of executions (Amnesty International)'] = df['Number of executions (Amnesty International)'].replace(to_replace='>1', value=1)\n",
    "df['Number of executions (Amnesty International)'] = df['Number of executions (Amnesty International)'].astype(float)"
   ]
  },
  {
   "cell_type": "code",
   "execution_count": 57,
   "id": "dd6ea4fb",
   "metadata": {},
   "outputs": [
    {
     "name": "stderr",
     "output_type": "stream",
     "text": [
      "C:\\Users\\grant\\anaconda3\\lib\\site-packages\\pandas\\core\\frame.py:4906: SettingWithCopyWarning: \n",
      "A value is trying to be set on a copy of a slice from a DataFrame\n",
      "\n",
      "See the caveats in the documentation: https://pandas.pydata.org/pandas-docs/stable/user_guide/indexing.html#returning-a-view-versus-a-copy\n",
      "  return super().drop(\n"
     ]
    }
   ],
   "source": [
    "# Training and testing sets\n",
    "X_train, X_test, y_train, y_test = train_test_split(df, df.loc[:,\"Continent_Code\"], test_size=0.25, stratify=df.loc[:,\"Continent_Code\"], random_state=42)\n",
    "\n",
    "# Dropping values for years, countries, etc.\n",
    "X_train.drop(X_train.columns[[0, 1, 2, 3, 4]], axis = 1, inplace = True)\n",
    "X_test.drop(X_test.columns[[0, 1, 2, 3, 4]], axis = 1, inplace = True)\n",
    "\n",
    "# Converting dataframe to arrays\n",
    "X_train = X_train.to_numpy()\n",
    "y_train = y_train.to_numpy()\n",
    "X_test = X_test.to_numpy()\n",
    "y_test = y_test.to_numpy()\n",
    "y_train = y_train.astype('int')\n",
    "y_test = y_test.astype('int')"
   ]
  },
  {
   "cell_type": "code",
   "execution_count": 58,
   "id": "089fc77b",
   "metadata": {},
   "outputs": [
    {
     "data": {
      "text/plain": [
       "array([[0.00000e+00, 1.40000e+01, 1.11200e+03, ..., 3.40000e+01,\n",
       "        1.47000e+02, 5.40000e+01],\n",
       "       [0.00000e+00, 1.04000e+03, 1.11493e+05, ..., 1.95000e+02,\n",
       "        2.03800e+04, 3.91200e+03],\n",
       "       [0.00000e+00, 0.00000e+00, 2.00000e+00, ..., 0.00000e+00,\n",
       "        0.00000e+00, 0.00000e+00],\n",
       "       ...,\n",
       "       [0.00000e+00, 7.70000e+01, 2.26000e+02, ..., 3.50000e+01,\n",
       "        2.10000e+01, 7.00000e+00],\n",
       "       [0.00000e+00, 8.30000e+01, 4.96330e+04, ..., 7.00000e+00,\n",
       "        6.81800e+03, 1.84500e+03],\n",
       "       [4.00000e+00, 5.20000e+01, 1.90250e+04, ..., 2.10000e+01,\n",
       "        3.47400e+03, 6.40000e+02]])"
      ]
     },
     "execution_count": 58,
     "metadata": {},
     "output_type": "execute_result"
    }
   ],
   "source": [
    "X_train"
   ]
  },
  {
   "cell_type": "code",
   "execution_count": 59,
   "id": "891afaac",
   "metadata": {},
   "outputs": [
    {
     "data": {
      "text/plain": [
       "array([0, 0, 5, ..., 0, 1, 1])"
      ]
     },
     "execution_count": 59,
     "metadata": {},
     "output_type": "execute_result"
    }
   ],
   "source": [
    "y_train"
   ]
  },
  {
   "cell_type": "code",
   "execution_count": 60,
   "id": "e83428c0",
   "metadata": {},
   "outputs": [
    {
     "data": {
      "text/plain": [
       "array([[0.0000e+00, 1.4700e+02, 1.5439e+04, ..., 1.2000e+01, 2.2900e+03,\n",
       "        5.5200e+02],\n",
       "       [0.0000e+00, 1.1350e+03, 2.3730e+03, ..., 1.1800e+02, 1.3500e+02,\n",
       "        4.6000e+01],\n",
       "       [0.0000e+00, 1.6000e+02, 4.0990e+04, ..., 6.0000e+00, 5.9100e+03,\n",
       "        1.2790e+03],\n",
       "       ...,\n",
       "       [0.0000e+00, 2.0000e+00, 1.8400e+02, ..., 0.0000e+00, 2.1000e+01,\n",
       "        7.0000e+00],\n",
       "       [0.0000e+00, 7.0000e+00, 1.4100e+02, ..., 3.0000e+00, 1.1000e+01,\n",
       "        7.0000e+00],\n",
       "       [0.0000e+00, 3.8300e+02, 4.8033e+04, ..., 1.3000e+01, 1.3056e+04,\n",
       "        1.8810e+03]])"
      ]
     },
     "execution_count": 60,
     "metadata": {},
     "output_type": "execute_result"
    }
   ],
   "source": [
    "X_test"
   ]
  },
  {
   "cell_type": "code",
   "execution_count": 61,
   "id": "653c581f",
   "metadata": {},
   "outputs": [
    {
     "data": {
      "text/plain": [
       "array([1, 4, 1, ..., 2, 5, 3])"
      ]
     },
     "execution_count": 61,
     "metadata": {},
     "output_type": "execute_result"
    }
   ],
   "source": [
    "y_test"
   ]
  },
  {
   "cell_type": "code",
   "execution_count": 71,
   "id": "d75be7b5",
   "metadata": {},
   "outputs": [
    {
     "name": "stdout",
     "output_type": "stream",
     "text": [
      "linear\n",
      "0.6555337262606418\n",
      "poly\n",
      "0.3182711198428291\n",
      "rbf\n",
      "0.5376555337262606\n",
      "sigmoid\n",
      "0.3785199738048461\n"
     ]
    }
   ],
   "source": [
    "import sklearn.metrics as metrics\n",
    "from sklearn.pipeline import make_pipeline\n",
    "from sklearn.preprocessing import StandardScaler\n",
    "from sklearn.svm import SVC\n",
    "\n",
    "# Nonlinear kernels that we will be testing\n",
    "parameters = ['linear', 'poly', 'rbf', 'sigmoid']\n",
    "\n",
    "# Print accuracy of each kernel\n",
    "for i in parameters:\n",
    "    # Multi class is handled through OvO\n",
    "    clf = make_pipeline(StandardScaler(), SVC(kernel=i))\n",
    "    clf.fit(X_train, y_train)\n",
    "    y_pred = clf.predict(X_test)\n",
    "    \n",
    "    print(i)\n",
    "    print(metrics.accuracy_score(y_test, y_pred))\n",
    "    \n"
   ]
  },
  {
   "cell_type": "code",
   "execution_count": null,
   "id": "b704ea1d",
   "metadata": {},
   "outputs": [],
   "source": [
    "# Conclusion\n",
    "# The most accurate kernel was linear, unfortunantely none of them were able to reach a very high accuracy. \n",
    "# This may be due to the fact that continents like North America and Europe share many similarities due\n",
    "# to them both housing many first world countries. As a result, the types of deaths between those two continents\n",
    "# may be very similar. The same logic can be applied to South America and Africa for third world countries. "
   ]
  }
 ],
 "metadata": {
  "kernelspec": {
   "display_name": "Python 3 (ipykernel)",
   "language": "python",
   "name": "python3"
  },
  "language_info": {
   "codemirror_mode": {
    "name": "ipython",
    "version": 3
   },
   "file_extension": ".py",
   "mimetype": "text/x-python",
   "name": "python",
   "nbconvert_exporter": "python",
   "pygments_lexer": "ipython3",
   "version": "3.9.7"
  }
 },
 "nbformat": 4,
 "nbformat_minor": 5
}
