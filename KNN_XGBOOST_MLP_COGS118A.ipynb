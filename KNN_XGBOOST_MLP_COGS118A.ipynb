{
 "cells": [
  {
   "cell_type": "code",
   "execution_count": 1,
   "id": "80cf5991",
   "metadata": {},
   "outputs": [],
   "source": [
    "import numpy as np\n",
    "import pandas as pd"
   ]
  },
  {
   "cell_type": "code",
   "execution_count": 8,
   "id": "d9b6228d",
   "metadata": {},
   "outputs": [],
   "source": [
    "df = pd.read_csv('continent_final.csv')"
   ]
  },
  {
   "cell_type": "code",
   "execution_count": 26,
   "id": "c699480a",
   "metadata": {},
   "outputs": [],
   "source": [
    "#NA is continent code for North America, missing data is due to .csv interpreting these values as missing data."
   ]
  },
  {
   "cell_type": "code",
   "execution_count": 11,
   "id": "d93e00ba",
   "metadata": {},
   "outputs": [],
   "source": [
    "#inputting missing values for consistency\n",
    "test = df['Continent_Code'].fillna('NA')"
   ]
  },
  {
   "cell_type": "code",
   "execution_count": 18,
   "id": "27d28f5e",
   "metadata": {
    "scrolled": true
   },
   "outputs": [
    {
     "data": {
      "text/html": [
       "<div>\n",
       "<style scoped>\n",
       "    .dataframe tbody tr th:only-of-type {\n",
       "        vertical-align: middle;\n",
       "    }\n",
       "\n",
       "    .dataframe tbody tr th {\n",
       "        vertical-align: top;\n",
       "    }\n",
       "\n",
       "    .dataframe thead th {\n",
       "        text-align: right;\n",
       "    }\n",
       "</style>\n",
       "<table border=\"1\" class=\"dataframe\">\n",
       "  <thead>\n",
       "    <tr style=\"text-align: right;\">\n",
       "      <th></th>\n",
       "      <th>Unnamed: 0</th>\n",
       "      <th>Entity</th>\n",
       "      <th>Code</th>\n",
       "      <th>Continent_Code</th>\n",
       "      <th>Continent</th>\n",
       "      <th>Year</th>\n",
       "      <th>Number of executions (Amnesty International)</th>\n",
       "      <th>Meningitis</th>\n",
       "      <th>Neoplasms</th>\n",
       "      <th>Fire, heat, and hot substances</th>\n",
       "      <th>...</th>\n",
       "      <th>Protein-energy malnutrition</th>\n",
       "      <th>Terrorism (deaths)</th>\n",
       "      <th>Cardiovascular diseases</th>\n",
       "      <th>Chronic kidney disease</th>\n",
       "      <th>Chronic respiratory diseases</th>\n",
       "      <th>Cirrhosis and other chronic liver diseases</th>\n",
       "      <th>Digestive diseases</th>\n",
       "      <th>Acute hepatitis</th>\n",
       "      <th>Alzheimer's disease and other dementias</th>\n",
       "      <th>Parkinson's disease</th>\n",
       "    </tr>\n",
       "  </thead>\n",
       "  <tbody>\n",
       "    <tr>\n",
       "      <th>180</th>\n",
       "      <td>330</td>\n",
       "      <td>Antigua and Barbuda</td>\n",
       "      <td>ATG</td>\n",
       "      <td>NaN</td>\n",
       "      <td>North America</td>\n",
       "      <td>1990</td>\n",
       "      <td>0</td>\n",
       "      <td>2.0</td>\n",
       "      <td>75.0</td>\n",
       "      <td>2.0</td>\n",
       "      <td>...</td>\n",
       "      <td>3.0</td>\n",
       "      <td>0.0</td>\n",
       "      <td>170.0</td>\n",
       "      <td>15.0</td>\n",
       "      <td>7.0</td>\n",
       "      <td>9.0</td>\n",
       "      <td>17.0</td>\n",
       "      <td>0.0</td>\n",
       "      <td>12.0</td>\n",
       "      <td>3.0</td>\n",
       "    </tr>\n",
       "    <tr>\n",
       "      <th>181</th>\n",
       "      <td>331</td>\n",
       "      <td>Antigua and Barbuda</td>\n",
       "      <td>ATG</td>\n",
       "      <td>NaN</td>\n",
       "      <td>North America</td>\n",
       "      <td>1991</td>\n",
       "      <td>0</td>\n",
       "      <td>2.0</td>\n",
       "      <td>77.0</td>\n",
       "      <td>2.0</td>\n",
       "      <td>...</td>\n",
       "      <td>4.0</td>\n",
       "      <td>0.0</td>\n",
       "      <td>173.0</td>\n",
       "      <td>15.0</td>\n",
       "      <td>7.0</td>\n",
       "      <td>9.0</td>\n",
       "      <td>17.0</td>\n",
       "      <td>0.0</td>\n",
       "      <td>13.0</td>\n",
       "      <td>3.0</td>\n",
       "    </tr>\n",
       "    <tr>\n",
       "      <th>182</th>\n",
       "      <td>332</td>\n",
       "      <td>Antigua and Barbuda</td>\n",
       "      <td>ATG</td>\n",
       "      <td>NaN</td>\n",
       "      <td>North America</td>\n",
       "      <td>1992</td>\n",
       "      <td>0</td>\n",
       "      <td>2.0</td>\n",
       "      <td>79.0</td>\n",
       "      <td>2.0</td>\n",
       "      <td>...</td>\n",
       "      <td>4.0</td>\n",
       "      <td>0.0</td>\n",
       "      <td>175.0</td>\n",
       "      <td>15.0</td>\n",
       "      <td>7.0</td>\n",
       "      <td>9.0</td>\n",
       "      <td>17.0</td>\n",
       "      <td>0.0</td>\n",
       "      <td>13.0</td>\n",
       "      <td>3.0</td>\n",
       "    </tr>\n",
       "    <tr>\n",
       "      <th>183</th>\n",
       "      <td>333</td>\n",
       "      <td>Antigua and Barbuda</td>\n",
       "      <td>ATG</td>\n",
       "      <td>NaN</td>\n",
       "      <td>North America</td>\n",
       "      <td>1993</td>\n",
       "      <td>0</td>\n",
       "      <td>2.0</td>\n",
       "      <td>84.0</td>\n",
       "      <td>2.0</td>\n",
       "      <td>...</td>\n",
       "      <td>4.0</td>\n",
       "      <td>0.0</td>\n",
       "      <td>186.0</td>\n",
       "      <td>16.0</td>\n",
       "      <td>8.0</td>\n",
       "      <td>10.0</td>\n",
       "      <td>18.0</td>\n",
       "      <td>0.0</td>\n",
       "      <td>13.0</td>\n",
       "      <td>3.0</td>\n",
       "    </tr>\n",
       "    <tr>\n",
       "      <th>184</th>\n",
       "      <td>334</td>\n",
       "      <td>Antigua and Barbuda</td>\n",
       "      <td>ATG</td>\n",
       "      <td>NaN</td>\n",
       "      <td>North America</td>\n",
       "      <td>1994</td>\n",
       "      <td>0</td>\n",
       "      <td>2.0</td>\n",
       "      <td>85.0</td>\n",
       "      <td>2.0</td>\n",
       "      <td>...</td>\n",
       "      <td>4.0</td>\n",
       "      <td>0.0</td>\n",
       "      <td>186.0</td>\n",
       "      <td>16.0</td>\n",
       "      <td>8.0</td>\n",
       "      <td>10.0</td>\n",
       "      <td>18.0</td>\n",
       "      <td>0.0</td>\n",
       "      <td>13.0</td>\n",
       "      <td>3.0</td>\n",
       "    </tr>\n",
       "    <tr>\n",
       "      <th>...</th>\n",
       "      <td>...</td>\n",
       "      <td>...</td>\n",
       "      <td>...</td>\n",
       "      <td>...</td>\n",
       "      <td>...</td>\n",
       "      <td>...</td>\n",
       "      <td>...</td>\n",
       "      <td>...</td>\n",
       "      <td>...</td>\n",
       "      <td>...</td>\n",
       "      <td>...</td>\n",
       "      <td>...</td>\n",
       "      <td>...</td>\n",
       "      <td>...</td>\n",
       "      <td>...</td>\n",
       "      <td>...</td>\n",
       "      <td>...</td>\n",
       "      <td>...</td>\n",
       "      <td>...</td>\n",
       "      <td>...</td>\n",
       "      <td>...</td>\n",
       "    </tr>\n",
       "    <tr>\n",
       "      <th>5845</th>\n",
       "      <td>7707</td>\n",
       "      <td>United States Virgin Islands</td>\n",
       "      <td>VIR</td>\n",
       "      <td>NaN</td>\n",
       "      <td>North America</td>\n",
       "      <td>2015</td>\n",
       "      <td>0</td>\n",
       "      <td>0.0</td>\n",
       "      <td>315.0</td>\n",
       "      <td>2.0</td>\n",
       "      <td>...</td>\n",
       "      <td>3.0</td>\n",
       "      <td>0.0</td>\n",
       "      <td>464.0</td>\n",
       "      <td>50.0</td>\n",
       "      <td>29.0</td>\n",
       "      <td>33.0</td>\n",
       "      <td>55.0</td>\n",
       "      <td>0.0</td>\n",
       "      <td>26.0</td>\n",
       "      <td>12.0</td>\n",
       "    </tr>\n",
       "    <tr>\n",
       "      <th>5846</th>\n",
       "      <td>7708</td>\n",
       "      <td>United States Virgin Islands</td>\n",
       "      <td>VIR</td>\n",
       "      <td>NaN</td>\n",
       "      <td>North America</td>\n",
       "      <td>2016</td>\n",
       "      <td>0</td>\n",
       "      <td>0.0</td>\n",
       "      <td>317.0</td>\n",
       "      <td>2.0</td>\n",
       "      <td>...</td>\n",
       "      <td>3.0</td>\n",
       "      <td>0.0</td>\n",
       "      <td>470.0</td>\n",
       "      <td>51.0</td>\n",
       "      <td>29.0</td>\n",
       "      <td>33.0</td>\n",
       "      <td>56.0</td>\n",
       "      <td>0.0</td>\n",
       "      <td>26.0</td>\n",
       "      <td>13.0</td>\n",
       "    </tr>\n",
       "    <tr>\n",
       "      <th>5847</th>\n",
       "      <td>7709</td>\n",
       "      <td>United States Virgin Islands</td>\n",
       "      <td>VIR</td>\n",
       "      <td>NaN</td>\n",
       "      <td>North America</td>\n",
       "      <td>2017</td>\n",
       "      <td>0</td>\n",
       "      <td>0.0</td>\n",
       "      <td>322.0</td>\n",
       "      <td>2.0</td>\n",
       "      <td>...</td>\n",
       "      <td>4.0</td>\n",
       "      <td>0.0</td>\n",
       "      <td>481.0</td>\n",
       "      <td>51.0</td>\n",
       "      <td>30.0</td>\n",
       "      <td>33.0</td>\n",
       "      <td>56.0</td>\n",
       "      <td>0.0</td>\n",
       "      <td>27.0</td>\n",
       "      <td>13.0</td>\n",
       "    </tr>\n",
       "    <tr>\n",
       "      <th>5848</th>\n",
       "      <td>7710</td>\n",
       "      <td>United States Virgin Islands</td>\n",
       "      <td>VIR</td>\n",
       "      <td>NaN</td>\n",
       "      <td>North America</td>\n",
       "      <td>2018</td>\n",
       "      <td>0</td>\n",
       "      <td>0.0</td>\n",
       "      <td>326.0</td>\n",
       "      <td>2.0</td>\n",
       "      <td>...</td>\n",
       "      <td>4.0</td>\n",
       "      <td>0.0</td>\n",
       "      <td>491.0</td>\n",
       "      <td>52.0</td>\n",
       "      <td>30.0</td>\n",
       "      <td>33.0</td>\n",
       "      <td>57.0</td>\n",
       "      <td>0.0</td>\n",
       "      <td>28.0</td>\n",
       "      <td>14.0</td>\n",
       "    </tr>\n",
       "    <tr>\n",
       "      <th>5849</th>\n",
       "      <td>7711</td>\n",
       "      <td>United States Virgin Islands</td>\n",
       "      <td>VIR</td>\n",
       "      <td>NaN</td>\n",
       "      <td>North America</td>\n",
       "      <td>2019</td>\n",
       "      <td>0</td>\n",
       "      <td>0.0</td>\n",
       "      <td>330.0</td>\n",
       "      <td>2.0</td>\n",
       "      <td>...</td>\n",
       "      <td>4.0</td>\n",
       "      <td>0.0</td>\n",
       "      <td>501.0</td>\n",
       "      <td>52.0</td>\n",
       "      <td>31.0</td>\n",
       "      <td>33.0</td>\n",
       "      <td>57.0</td>\n",
       "      <td>0.0</td>\n",
       "      <td>29.0</td>\n",
       "      <td>14.0</td>\n",
       "    </tr>\n",
       "  </tbody>\n",
       "</table>\n",
       "<p>810 rows × 39 columns</p>\n",
       "</div>"
      ],
      "text/plain": [
       "      Unnamed: 0                        Entity Code Continent_Code  \\\n",
       "180          330           Antigua and Barbuda  ATG            NaN   \n",
       "181          331           Antigua and Barbuda  ATG            NaN   \n",
       "182          332           Antigua and Barbuda  ATG            NaN   \n",
       "183          333           Antigua and Barbuda  ATG            NaN   \n",
       "184          334           Antigua and Barbuda  ATG            NaN   \n",
       "...          ...                           ...  ...            ...   \n",
       "5845        7707  United States Virgin Islands  VIR            NaN   \n",
       "5846        7708  United States Virgin Islands  VIR            NaN   \n",
       "5847        7709  United States Virgin Islands  VIR            NaN   \n",
       "5848        7710  United States Virgin Islands  VIR            NaN   \n",
       "5849        7711  United States Virgin Islands  VIR            NaN   \n",
       "\n",
       "          Continent  Year Number of executions (Amnesty International)  \\\n",
       "180   North America  1990                                            0   \n",
       "181   North America  1991                                            0   \n",
       "182   North America  1992                                            0   \n",
       "183   North America  1993                                            0   \n",
       "184   North America  1994                                            0   \n",
       "...             ...   ...                                          ...   \n",
       "5845  North America  2015                                            0   \n",
       "5846  North America  2016                                            0   \n",
       "5847  North America  2017                                            0   \n",
       "5848  North America  2018                                            0   \n",
       "5849  North America  2019                                            0   \n",
       "\n",
       "      Meningitis  Neoplasms  Fire, heat, and hot substances  ...  \\\n",
       "180          2.0       75.0                             2.0  ...   \n",
       "181          2.0       77.0                             2.0  ...   \n",
       "182          2.0       79.0                             2.0  ...   \n",
       "183          2.0       84.0                             2.0  ...   \n",
       "184          2.0       85.0                             2.0  ...   \n",
       "...          ...        ...                             ...  ...   \n",
       "5845         0.0      315.0                             2.0  ...   \n",
       "5846         0.0      317.0                             2.0  ...   \n",
       "5847         0.0      322.0                             2.0  ...   \n",
       "5848         0.0      326.0                             2.0  ...   \n",
       "5849         0.0      330.0                             2.0  ...   \n",
       "\n",
       "      Protein-energy malnutrition  Terrorism (deaths)  \\\n",
       "180                           3.0                 0.0   \n",
       "181                           4.0                 0.0   \n",
       "182                           4.0                 0.0   \n",
       "183                           4.0                 0.0   \n",
       "184                           4.0                 0.0   \n",
       "...                           ...                 ...   \n",
       "5845                          3.0                 0.0   \n",
       "5846                          3.0                 0.0   \n",
       "5847                          4.0                 0.0   \n",
       "5848                          4.0                 0.0   \n",
       "5849                          4.0                 0.0   \n",
       "\n",
       "      Cardiovascular diseases  Chronic kidney disease  \\\n",
       "180                     170.0                    15.0   \n",
       "181                     173.0                    15.0   \n",
       "182                     175.0                    15.0   \n",
       "183                     186.0                    16.0   \n",
       "184                     186.0                    16.0   \n",
       "...                       ...                     ...   \n",
       "5845                    464.0                    50.0   \n",
       "5846                    470.0                    51.0   \n",
       "5847                    481.0                    51.0   \n",
       "5848                    491.0                    52.0   \n",
       "5849                    501.0                    52.0   \n",
       "\n",
       "      Chronic respiratory diseases  \\\n",
       "180                            7.0   \n",
       "181                            7.0   \n",
       "182                            7.0   \n",
       "183                            8.0   \n",
       "184                            8.0   \n",
       "...                            ...   \n",
       "5845                          29.0   \n",
       "5846                          29.0   \n",
       "5847                          30.0   \n",
       "5848                          30.0   \n",
       "5849                          31.0   \n",
       "\n",
       "      Cirrhosis and other chronic liver diseases  Digestive diseases  \\\n",
       "180                                          9.0                17.0   \n",
       "181                                          9.0                17.0   \n",
       "182                                          9.0                17.0   \n",
       "183                                         10.0                18.0   \n",
       "184                                         10.0                18.0   \n",
       "...                                          ...                 ...   \n",
       "5845                                        33.0                55.0   \n",
       "5846                                        33.0                56.0   \n",
       "5847                                        33.0                56.0   \n",
       "5848                                        33.0                57.0   \n",
       "5849                                        33.0                57.0   \n",
       "\n",
       "      Acute hepatitis  Alzheimer's disease and other dementias  \\\n",
       "180               0.0                                     12.0   \n",
       "181               0.0                                     13.0   \n",
       "182               0.0                                     13.0   \n",
       "183               0.0                                     13.0   \n",
       "184               0.0                                     13.0   \n",
       "...               ...                                      ...   \n",
       "5845              0.0                                     26.0   \n",
       "5846              0.0                                     26.0   \n",
       "5847              0.0                                     27.0   \n",
       "5848              0.0                                     28.0   \n",
       "5849              0.0                                     29.0   \n",
       "\n",
       "      Parkinson's disease  \n",
       "180                   3.0  \n",
       "181                   3.0  \n",
       "182                   3.0  \n",
       "183                   3.0  \n",
       "184                   3.0  \n",
       "...                   ...  \n",
       "5845                 12.0  \n",
       "5846                 13.0  \n",
       "5847                 13.0  \n",
       "5848                 14.0  \n",
       "5849                 14.0  \n",
       "\n",
       "[810 rows x 39 columns]"
      ]
     },
     "execution_count": 18,
     "metadata": {},
     "output_type": "execute_result"
    }
   ],
   "source": [
    "df.loc[df['Continent_Code'].isna()] #did not work"
   ]
  },
  {
   "cell_type": "code",
   "execution_count": 22,
   "id": "9e575a76",
   "metadata": {},
   "outputs": [],
   "source": [
    "df = df.drop(columns = ['Continent_Code', 'Unnamed: 0'])"
   ]
  },
  {
   "cell_type": "code",
   "execution_count": 25,
   "id": "f3d0bb1c",
   "metadata": {},
   "outputs": [
    {
     "data": {
      "text/html": [
       "<div>\n",
       "<style scoped>\n",
       "    .dataframe tbody tr th:only-of-type {\n",
       "        vertical-align: middle;\n",
       "    }\n",
       "\n",
       "    .dataframe tbody tr th {\n",
       "        vertical-align: top;\n",
       "    }\n",
       "\n",
       "    .dataframe thead th {\n",
       "        text-align: right;\n",
       "    }\n",
       "</style>\n",
       "<table border=\"1\" class=\"dataframe\">\n",
       "  <thead>\n",
       "    <tr style=\"text-align: right;\">\n",
       "      <th></th>\n",
       "      <th>Entity</th>\n",
       "      <th>Code</th>\n",
       "      <th>Continent</th>\n",
       "      <th>Year</th>\n",
       "      <th>Number of executions (Amnesty International)</th>\n",
       "      <th>Meningitis</th>\n",
       "      <th>Neoplasms</th>\n",
       "      <th>Fire, heat, and hot substances</th>\n",
       "      <th>Malaria</th>\n",
       "      <th>Drowning</th>\n",
       "      <th>...</th>\n",
       "      <th>Protein-energy malnutrition</th>\n",
       "      <th>Terrorism (deaths)</th>\n",
       "      <th>Cardiovascular diseases</th>\n",
       "      <th>Chronic kidney disease</th>\n",
       "      <th>Chronic respiratory diseases</th>\n",
       "      <th>Cirrhosis and other chronic liver diseases</th>\n",
       "      <th>Digestive diseases</th>\n",
       "      <th>Acute hepatitis</th>\n",
       "      <th>Alzheimer's disease and other dementias</th>\n",
       "      <th>Parkinson's disease</th>\n",
       "    </tr>\n",
       "  </thead>\n",
       "  <tbody>\n",
       "    <tr>\n",
       "      <th>0</th>\n",
       "      <td>Afghanistan</td>\n",
       "      <td>AFG</td>\n",
       "      <td>Asia</td>\n",
       "      <td>2007</td>\n",
       "      <td>15</td>\n",
       "      <td>2933.0</td>\n",
       "      <td>15925.0</td>\n",
       "      <td>481.0</td>\n",
       "      <td>393.0</td>\n",
       "      <td>2127.0</td>\n",
       "      <td>...</td>\n",
       "      <td>2439.0</td>\n",
       "      <td>1199.0</td>\n",
       "      <td>53962.0</td>\n",
       "      <td>4490.0</td>\n",
       "      <td>7222.0</td>\n",
       "      <td>3346.0</td>\n",
       "      <td>6458.0</td>\n",
       "      <td>3437.0</td>\n",
       "      <td>1402.0</td>\n",
       "      <td>450.0</td>\n",
       "    </tr>\n",
       "    <tr>\n",
       "      <th>1</th>\n",
       "      <td>Afghanistan</td>\n",
       "      <td>AFG</td>\n",
       "      <td>Asia</td>\n",
       "      <td>2008</td>\n",
       "      <td>17</td>\n",
       "      <td>2731.0</td>\n",
       "      <td>16148.0</td>\n",
       "      <td>462.0</td>\n",
       "      <td>255.0</td>\n",
       "      <td>1973.0</td>\n",
       "      <td>...</td>\n",
       "      <td>2231.0</td>\n",
       "      <td>1092.0</td>\n",
       "      <td>54051.0</td>\n",
       "      <td>4534.0</td>\n",
       "      <td>7143.0</td>\n",
       "      <td>3316.0</td>\n",
       "      <td>6408.0</td>\n",
       "      <td>3005.0</td>\n",
       "      <td>1424.0</td>\n",
       "      <td>455.0</td>\n",
       "    </tr>\n",
       "    <tr>\n",
       "      <th>2</th>\n",
       "      <td>Afghanistan</td>\n",
       "      <td>AFG</td>\n",
       "      <td>Asia</td>\n",
       "      <td>2009</td>\n",
       "      <td>0</td>\n",
       "      <td>2460.0</td>\n",
       "      <td>16383.0</td>\n",
       "      <td>448.0</td>\n",
       "      <td>239.0</td>\n",
       "      <td>1852.0</td>\n",
       "      <td>...</td>\n",
       "      <td>1998.0</td>\n",
       "      <td>1065.0</td>\n",
       "      <td>53964.0</td>\n",
       "      <td>4597.0</td>\n",
       "      <td>7045.0</td>\n",
       "      <td>3291.0</td>\n",
       "      <td>6358.0</td>\n",
       "      <td>2663.0</td>\n",
       "      <td>1449.0</td>\n",
       "      <td>460.0</td>\n",
       "    </tr>\n",
       "    <tr>\n",
       "      <th>3</th>\n",
       "      <td>Afghanistan</td>\n",
       "      <td>AFG</td>\n",
       "      <td>Asia</td>\n",
       "      <td>2011</td>\n",
       "      <td>2</td>\n",
       "      <td>2327.0</td>\n",
       "      <td>17094.0</td>\n",
       "      <td>448.0</td>\n",
       "      <td>390.0</td>\n",
       "      <td>1775.0</td>\n",
       "      <td>...</td>\n",
       "      <td>1805.0</td>\n",
       "      <td>1525.0</td>\n",
       "      <td>54347.0</td>\n",
       "      <td>4785.0</td>\n",
       "      <td>6916.0</td>\n",
       "      <td>3318.0</td>\n",
       "      <td>6370.0</td>\n",
       "      <td>2365.0</td>\n",
       "      <td>1508.0</td>\n",
       "      <td>473.0</td>\n",
       "    </tr>\n",
       "    <tr>\n",
       "      <th>4</th>\n",
       "      <td>Afghanistan</td>\n",
       "      <td>AFG</td>\n",
       "      <td>Asia</td>\n",
       "      <td>2012</td>\n",
       "      <td>14</td>\n",
       "      <td>2254.0</td>\n",
       "      <td>17522.0</td>\n",
       "      <td>445.0</td>\n",
       "      <td>94.0</td>\n",
       "      <td>1716.0</td>\n",
       "      <td>...</td>\n",
       "      <td>1667.0</td>\n",
       "      <td>3521.0</td>\n",
       "      <td>54868.0</td>\n",
       "      <td>4846.0</td>\n",
       "      <td>6878.0</td>\n",
       "      <td>3353.0</td>\n",
       "      <td>6398.0</td>\n",
       "      <td>2264.0</td>\n",
       "      <td>1544.0</td>\n",
       "      <td>482.0</td>\n",
       "    </tr>\n",
       "  </tbody>\n",
       "</table>\n",
       "<p>5 rows × 37 columns</p>\n",
       "</div>"
      ],
      "text/plain": [
       "        Entity Code Continent  Year  \\\n",
       "0  Afghanistan  AFG      Asia  2007   \n",
       "1  Afghanistan  AFG      Asia  2008   \n",
       "2  Afghanistan  AFG      Asia  2009   \n",
       "3  Afghanistan  AFG      Asia  2011   \n",
       "4  Afghanistan  AFG      Asia  2012   \n",
       "\n",
       "  Number of executions (Amnesty International)  Meningitis  Neoplasms  \\\n",
       "0                                           15      2933.0    15925.0   \n",
       "1                                           17      2731.0    16148.0   \n",
       "2                                            0      2460.0    16383.0   \n",
       "3                                            2      2327.0    17094.0   \n",
       "4                                           14      2254.0    17522.0   \n",
       "\n",
       "   Fire, heat, and hot substances  Malaria  Drowning  ...  \\\n",
       "0                           481.0    393.0    2127.0  ...   \n",
       "1                           462.0    255.0    1973.0  ...   \n",
       "2                           448.0    239.0    1852.0  ...   \n",
       "3                           448.0    390.0    1775.0  ...   \n",
       "4                           445.0     94.0    1716.0  ...   \n",
       "\n",
       "   Protein-energy malnutrition  Terrorism (deaths)  Cardiovascular diseases  \\\n",
       "0                       2439.0              1199.0                  53962.0   \n",
       "1                       2231.0              1092.0                  54051.0   \n",
       "2                       1998.0              1065.0                  53964.0   \n",
       "3                       1805.0              1525.0                  54347.0   \n",
       "4                       1667.0              3521.0                  54868.0   \n",
       "\n",
       "   Chronic kidney disease  Chronic respiratory diseases  \\\n",
       "0                  4490.0                        7222.0   \n",
       "1                  4534.0                        7143.0   \n",
       "2                  4597.0                        7045.0   \n",
       "3                  4785.0                        6916.0   \n",
       "4                  4846.0                        6878.0   \n",
       "\n",
       "   Cirrhosis and other chronic liver diseases  Digestive diseases  \\\n",
       "0                                      3346.0              6458.0   \n",
       "1                                      3316.0              6408.0   \n",
       "2                                      3291.0              6358.0   \n",
       "3                                      3318.0              6370.0   \n",
       "4                                      3353.0              6398.0   \n",
       "\n",
       "   Acute hepatitis  Alzheimer's disease and other dementias  \\\n",
       "0           3437.0                                   1402.0   \n",
       "1           3005.0                                   1424.0   \n",
       "2           2663.0                                   1449.0   \n",
       "3           2365.0                                   1508.0   \n",
       "4           2264.0                                   1544.0   \n",
       "\n",
       "   Parkinson's disease  \n",
       "0                450.0  \n",
       "1                455.0  \n",
       "2                460.0  \n",
       "3                473.0  \n",
       "4                482.0  \n",
       "\n",
       "[5 rows x 37 columns]"
      ]
     },
     "execution_count": 25,
     "metadata": {},
     "output_type": "execute_result"
    }
   ],
   "source": [
    "df.head()"
   ]
  },
  {
   "cell_type": "code",
   "execution_count": 45,
   "id": "23fb3fc2",
   "metadata": {},
   "outputs": [],
   "source": [
    "#imports for KNN\n",
    "\n",
    "from sklearn.neighbors import KNeighborsClassifier\n",
    "from sklearn.model_selection import train_test_split"
   ]
  },
  {
   "cell_type": "code",
   "execution_count": 63,
   "id": "fec9b742",
   "metadata": {},
   "outputs": [],
   "source": [
    "def clean_execution(string):\n",
    "    try:\n",
    "        return float(string)\n",
    "    except:\n",
    "        return float(string[1:])"
   ]
  },
  {
   "cell_type": "code",
   "execution_count": 66,
   "id": "9473c435",
   "metadata": {},
   "outputs": [],
   "source": [
    "#df['Number of executions (Amnesty International)'] = df['Number of executions (Amnesty International)'].apply(clean_execution)"
   ]
  },
  {
   "cell_type": "code",
   "execution_count": 69,
   "id": "da93239a",
   "metadata": {},
   "outputs": [],
   "source": [
    "X, y = df.loc[:, 'Number of executions (Amnesty International)':], df['Continent']"
   ]
  },
  {
   "cell_type": "code",
   "execution_count": 94,
   "id": "a8f15bbf",
   "metadata": {},
   "outputs": [],
   "source": [
    "X_train, X_test, y_train, y_test = train_test_split(X, y, test_size = .25, stratify = y, random_state = 55)"
   ]
  },
  {
   "cell_type": "code",
   "execution_count": 95,
   "id": "6eb550f5",
   "metadata": {},
   "outputs": [],
   "source": [
    "n = len(set(y.values))"
   ]
  },
  {
   "cell_type": "code",
   "execution_count": 96,
   "id": "970e8b6f",
   "metadata": {},
   "outputs": [],
   "source": [
    "neighbors = KNeighborsClassifier(n_neighbors = n)"
   ]
  },
  {
   "cell_type": "code",
   "execution_count": 97,
   "id": "d9cacdfe",
   "metadata": {},
   "outputs": [
    {
     "data": {
      "text/plain": [
       "KNeighborsClassifier(n_neighbors=6)"
      ]
     },
     "execution_count": 97,
     "metadata": {},
     "output_type": "execute_result"
    }
   ],
   "source": [
    "neighbors.fit(X_train, y_train)"
   ]
  },
  {
   "cell_type": "code",
   "execution_count": 98,
   "id": "46b2b109",
   "metadata": {},
   "outputs": [
    {
     "data": {
      "text/plain": [
       "0.9947472094550229"
      ]
     },
     "execution_count": 98,
     "metadata": {},
     "output_type": "execute_result"
    }
   ],
   "source": [
    "neighbors.score(X_test, y_test)"
   ]
  },
  {
   "cell_type": "code",
   "execution_count": 99,
   "id": "e21d817d",
   "metadata": {},
   "outputs": [
    {
     "data": {
      "text/plain": [
       "0.997208538587849"
      ]
     },
     "execution_count": 99,
     "metadata": {},
     "output_type": "execute_result"
    }
   ],
   "source": [
    "neighbors.score(X, y)"
   ]
  },
  {
   "cell_type": "code",
   "execution_count": 77,
   "id": "e410b16c",
   "metadata": {},
   "outputs": [
    {
     "name": "stdout",
     "output_type": "stream",
     "text": [
      "Collecting xgboost\n",
      "  Downloading xgboost-1.6.1-py3-none-win_amd64.whl (125.4 MB)\n",
      "Requirement already satisfied: numpy in d:\\anaconda\\lib\\site-packages (from xgboost) (1.21.5)\n",
      "Requirement already satisfied: scipy in d:\\anaconda\\lib\\site-packages (from xgboost) (1.7.3)\n",
      "Installing collected packages: xgboost\n",
      "Successfully installed xgboost-1.6.1\n"
     ]
    }
   ],
   "source": [
    "!pip install xgboost"
   ]
  },
  {
   "cell_type": "code",
   "execution_count": 81,
   "id": "879f71b2",
   "metadata": {},
   "outputs": [],
   "source": [
    "#using pd.dummies for onehot to use in xgboost\n",
    "xgboost_y = pd.get_dummies(y)"
   ]
  },
  {
   "cell_type": "code",
   "execution_count": 86,
   "id": "fb305cb8",
   "metadata": {},
   "outputs": [],
   "source": [
    "xgboost_y = xgboost_y.values.tolist()"
   ]
  },
  {
   "cell_type": "code",
   "execution_count": 100,
   "id": "f8df77b8",
   "metadata": {},
   "outputs": [],
   "source": [
    "#train test for xgboost\n",
    "Xg_train, Xg_test, yg_train, yg_test = train_test_split(X, xgboost_y, test_size = .25, stratify = xgboost_y, random_state = 55)"
   ]
  },
  {
   "cell_type": "code",
   "execution_count": 170,
   "id": "af033ce0",
   "metadata": {},
   "outputs": [],
   "source": [
    "#xgboost decision model\n",
    "import xgboost as xgb"
   ]
  },
  {
   "cell_type": "code",
   "execution_count": 169,
   "id": "c7a760ba",
   "metadata": {},
   "outputs": [
    {
     "data": {
      "text/plain": [
       "XGBClassifier(base_score=0.5, booster='gbtree', callbacks=None,\n",
       "              colsample_bylevel=1, colsample_bynode=1, colsample_bytree=1,\n",
       "              early_stopping_rounds=None, enable_categorical=False,\n",
       "              eval_metric=None, gamma=0, gpu_id=-1, grow_policy='depthwise',\n",
       "              importance_type=None, interaction_constraints='',\n",
       "              learning_rate=0.300000012, max_bin=256, max_cat_to_onehot=4,\n",
       "              max_delta_step=0, max_depth=6, max_leaves=0, min_child_weight=1,\n",
       "              missing=nan, monotone_constraints='()', n_estimators=100,\n",
       "              n_jobs=0, num_parallel_tree=1, predictor='auto', random_state=0,\n",
       "              reg_alpha=0, reg_lambda=1, ...)"
      ]
     },
     "execution_count": 169,
     "metadata": {},
     "output_type": "execute_result"
    }
   ],
   "source": [
    "xgb = xgb.XGBClassifier()\n",
    "xgb.fit(Xg_train, yg_train)"
   ]
  },
  {
   "cell_type": "code",
   "execution_count": 102,
   "id": "7ff6980d",
   "metadata": {},
   "outputs": [
    {
     "data": {
      "text/plain": [
       "0.9934340118187788"
      ]
     },
     "execution_count": 102,
     "metadata": {},
     "output_type": "execute_result"
    }
   ],
   "source": [
    "xgb.score(Xg_test, yg_test)"
   ]
  },
  {
   "cell_type": "code",
   "execution_count": 103,
   "id": "790ebfe1",
   "metadata": {},
   "outputs": [
    {
     "data": {
      "text/plain": [
       "0.9983579638752053"
      ]
     },
     "execution_count": 103,
     "metadata": {},
     "output_type": "execute_result"
    }
   ],
   "source": [
    "xgb.score(X, xgboost_y)"
   ]
  },
  {
   "cell_type": "code",
   "execution_count": 112,
   "id": "7d028656",
   "metadata": {},
   "outputs": [],
   "source": [
    "from sklearn.neural_network import MLPClassifier\n",
    "\n",
    "nn = MLPClassifier(solver = 'adam', max_iter = 1000) #using mostly default parameters"
   ]
  },
  {
   "cell_type": "code",
   "execution_count": 113,
   "id": "7fb60bfe",
   "metadata": {},
   "outputs": [],
   "source": [
    "from sklearn.preprocessing import StandardScaler, FunctionTransformer\n",
    "from sklearn.decomposition import PCA\n",
    "from sklearn.pipeline import Pipeline"
   ]
  },
  {
   "cell_type": "code",
   "execution_count": 117,
   "id": "6a8d5acf",
   "metadata": {},
   "outputs": [],
   "source": [
    "transformer = FunctionTransformer(np.log1p, validate=True)\n",
    "\n",
    "nn_pipe = Pipeline([('transformer', transformer), ('pca', PCA()), ('mlp', nn)]) #standardscaler gave bad predictions"
   ]
  },
  {
   "cell_type": "code",
   "execution_count": 118,
   "id": "ca2593dd",
   "metadata": {},
   "outputs": [
    {
     "data": {
      "text/plain": [
       "Pipeline(steps=[('transformer',\n",
       "                 FunctionTransformer(func=<ufunc 'log1p'>, validate=True)),\n",
       "                ('pca', PCA()), ('mlp', MLPClassifier(max_iter=1000))])"
      ]
     },
     "execution_count": 118,
     "metadata": {},
     "output_type": "execute_result"
    }
   ],
   "source": [
    "nn_pipe.fit(X_train, y_train)"
   ]
  },
  {
   "cell_type": "code",
   "execution_count": 119,
   "id": "42a37b6e",
   "metadata": {},
   "outputs": [
    {
     "data": {
      "text/plain": [
       "0.9986868023637557"
      ]
     },
     "execution_count": 119,
     "metadata": {},
     "output_type": "execute_result"
    }
   ],
   "source": [
    "nn_pipe.score(X_test, y_test)"
   ]
  },
  {
   "cell_type": "code",
   "execution_count": 120,
   "id": "8827c9da",
   "metadata": {},
   "outputs": [
    {
     "data": {
      "text/plain": [
       "0.999671592775041"
      ]
     },
     "execution_count": 120,
     "metadata": {},
     "output_type": "execute_result"
    }
   ],
   "source": [
    "nn_pipe.score(X, y) #highest acc!"
   ]
  },
  {
   "cell_type": "markdown",
   "id": "0bc81303",
   "metadata": {},
   "source": [
    "Overall, the pipeline with the MLP Classifier has the highest accuracy on the entire data set."
   ]
  },
  {
   "cell_type": "code",
   "execution_count": 126,
   "id": "bce73c89",
   "metadata": {},
   "outputs": [],
   "source": [
    "#will a pipeline with log1p transformer and pca combined with knn yield higher acc?\n",
    "new_neighbors = KNeighborsClassifier(n_neighbors = n)"
   ]
  },
  {
   "cell_type": "code",
   "execution_count": 127,
   "id": "f4efce15",
   "metadata": {},
   "outputs": [],
   "source": [
    "knn_pipe = Pipeline([('transformer', transformer), ('pca', PCA()), ('knn', new_neighbors)])"
   ]
  },
  {
   "cell_type": "code",
   "execution_count": 128,
   "id": "ea5897c3",
   "metadata": {},
   "outputs": [
    {
     "data": {
      "text/plain": [
       "Pipeline(steps=[('transformer',\n",
       "                 FunctionTransformer(func=<ufunc 'log1p'>, validate=True)),\n",
       "                ('pca', PCA()), ('knn', KNeighborsClassifier(n_neighbors=6))])"
      ]
     },
     "execution_count": 128,
     "metadata": {},
     "output_type": "execute_result"
    }
   ],
   "source": [
    "knn_pipe.fit(X_train, y_train)"
   ]
  },
  {
   "cell_type": "code",
   "execution_count": 129,
   "id": "5d036a8b",
   "metadata": {},
   "outputs": [
    {
     "data": {
      "text/plain": [
       "0.989494418910046"
      ]
     },
     "execution_count": 129,
     "metadata": {},
     "output_type": "execute_result"
    }
   ],
   "source": [
    "knn_pipe.score(X_test, y_test)"
   ]
  },
  {
   "cell_type": "code",
   "execution_count": null,
   "id": "1963234f",
   "metadata": {},
   "outputs": [],
   "source": [
    "#no"
   ]
  },
  {
   "cell_type": "code",
   "execution_count": 131,
   "id": "8c97093e",
   "metadata": {},
   "outputs": [],
   "source": [
    "from sklearn.svm import SVC, NuSVC"
   ]
  },
  {
   "cell_type": "code",
   "execution_count": 161,
   "id": "25ec45b3",
   "metadata": {},
   "outputs": [],
   "source": [
    "svc = SVC(C = 100, kernel = 'rbf')"
   ]
  },
  {
   "cell_type": "code",
   "execution_count": 162,
   "id": "e01c2448",
   "metadata": {},
   "outputs": [],
   "source": [
    "svc_pipe = Pipeline([('transformer', transformer), ('pca', PCA()), ('svc', svc)])"
   ]
  },
  {
   "cell_type": "code",
   "execution_count": 163,
   "id": "7f6726b8",
   "metadata": {},
   "outputs": [
    {
     "data": {
      "text/plain": [
       "Pipeline(steps=[('transformer',\n",
       "                 FunctionTransformer(func=<ufunc 'log1p'>, validate=True)),\n",
       "                ('pca', PCA()), ('svc', SVC(C=100))])"
      ]
     },
     "execution_count": 163,
     "metadata": {},
     "output_type": "execute_result"
    }
   ],
   "source": [
    "svc_pipe.fit(X_train, y_train)"
   ]
  },
  {
   "cell_type": "code",
   "execution_count": 164,
   "id": "fcd66a7c",
   "metadata": {},
   "outputs": [
    {
     "data": {
      "text/plain": [
       "1.0"
      ]
     },
     "execution_count": 164,
     "metadata": {},
     "output_type": "execute_result"
    }
   ],
   "source": [
    "svc_pipe.score(X_train, y_train)"
   ]
  },
  {
   "cell_type": "code",
   "execution_count": 165,
   "id": "0a717d02",
   "metadata": {},
   "outputs": [
    {
     "data": {
      "text/plain": [
       "0.9993434011818779"
      ]
     },
     "execution_count": 165,
     "metadata": {},
     "output_type": "execute_result"
    }
   ],
   "source": [
    "svc_pipe.score(X_test, y_test)"
   ]
  },
  {
   "cell_type": "code",
   "execution_count": 171,
   "id": "26fdb26a",
   "metadata": {},
   "outputs": [],
   "source": [
    "xgb_pipe = Pipeline([('transformer', transformer), ('pca', PCA()), ('xgb', xgb.XGBClassifier())])"
   ]
  },
  {
   "cell_type": "code",
   "execution_count": 172,
   "id": "7896f7c5",
   "metadata": {},
   "outputs": [
    {
     "data": {
      "text/plain": [
       "Pipeline(steps=[('transformer',\n",
       "                 FunctionTransformer(func=<ufunc 'log1p'>, validate=True)),\n",
       "                ('pca', PCA()),\n",
       "                ('xgb',\n",
       "                 XGBClassifier(base_score=0.5, booster='gbtree', callbacks=None,\n",
       "                               colsample_bylevel=1, colsample_bynode=1,\n",
       "                               colsample_bytree=1, early_stopping_rounds=None,\n",
       "                               enable_categorical=False, eval_metric=None,\n",
       "                               gamma=0, gpu_id=-1, grow_policy='depthwise',\n",
       "                               importance_type=None, interaction_constraints='',\n",
       "                               learning_rate=0.300000012, max_bin=256,\n",
       "                               max_cat_to_onehot=4, max_delta_step=0,\n",
       "                               max_depth=6, max_leaves=0, min_child_weight=1,\n",
       "                               missing=nan, monotone_constraints='()',\n",
       "                               n_estimators=100, n_jobs=0, num_parallel_tree=1,\n",
       "                               predictor='auto', random_state=0, reg_alpha=0,\n",
       "                               reg_lambda=1, ...))])"
      ]
     },
     "execution_count": 172,
     "metadata": {},
     "output_type": "execute_result"
    }
   ],
   "source": [
    "xgb_pipe.fit(Xg_train, yg_train)"
   ]
  },
  {
   "cell_type": "code",
   "execution_count": 173,
   "id": "521b982f",
   "metadata": {},
   "outputs": [
    {
     "data": {
      "text/plain": [
       "1.0"
      ]
     },
     "execution_count": 173,
     "metadata": {},
     "output_type": "execute_result"
    }
   ],
   "source": [
    "xgb_pipe.score(Xg_train, yg_train)"
   ]
  },
  {
   "cell_type": "code",
   "execution_count": 174,
   "id": "bc9c7f51",
   "metadata": {},
   "outputs": [
    {
     "data": {
      "text/plain": [
       "0.9881812212738017"
      ]
     },
     "execution_count": 174,
     "metadata": {},
     "output_type": "execute_result"
    }
   ],
   "source": [
    "xgb_pipe.score(Xg_test, yg_test)"
   ]
  },
  {
   "cell_type": "code",
   "execution_count": null,
   "id": "22b2cdf5",
   "metadata": {},
   "outputs": [],
   "source": []
  }
 ],
 "metadata": {
  "kernelspec": {
   "display_name": "Python 3 (ipykernel)",
   "language": "python",
   "name": "python3"
  },
  "language_info": {
   "codemirror_mode": {
    "name": "ipython",
    "version": 3
   },
   "file_extension": ".py",
   "mimetype": "text/x-python",
   "name": "python",
   "nbconvert_exporter": "python",
   "pygments_lexer": "ipython3",
   "version": "3.8.5"
  }
 },
 "nbformat": 4,
 "nbformat_minor": 5
}
